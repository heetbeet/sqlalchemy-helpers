{
 "cells": [
  {
   "cell_type": "code",
   "execution_count": null,
   "metadata": {
    "scrolled": false
   },
   "outputs": [],
   "source": [
    "%load_ext autoreload\n",
    "%autoreload 2\n",
    "    \n",
    "import numpy as np\n",
    "import pandas as pd\n",
    "\n",
    "import sqlalchemy as sq\n",
    "import sql_misc as sqm\n",
    "\n",
    "import datetime as dt\n",
    "import time\n",
    "\n",
    "def dt_now():\n",
    "    return dt.datetime.fromtimestamp(time.time())\n"
   ]
  },
  {
   "cell_type": "code",
   "execution_count": null,
   "metadata": {},
   "outputs": [],
   "source": [
    "engine = sq.create_engine('sqlite:///botinfo.db', echo=False)\n",
    "\n",
    "botInfo = sqm.make_table_class(\n",
    "    'botinfo',\n",
    "    {'name': str,\n",
    "     'last_seen': dt.datetime},\n",
    "    primary_key='name'\n",
    ")\n",
    "\n",
    "globalInfo = sqm.make_table_class(\n",
    "    'globalinfo',\n",
    "    {'id': int,\n",
    "     'turn': int,\n",
    "     'api_available':dt.datetime},\n",
    "    primary_key='id'\n",
    ")\n",
    "\n",
    "sqm.Base.metadata.create_all(engine, checkfirst=True)"
   ]
  },
  {
   "cell_type": "code",
   "execution_count": null,
   "metadata": {},
   "outputs": [],
   "source": [
    "Session = sq.orm.sessionmaker(bind=engine)\n",
    "session = Session()"
   ]
  },
  {
   "cell_type": "code",
   "execution_count": null,
   "metadata": {},
   "outputs": [],
   "source": [
    "session.merge(botInfo(\n",
    "    name = 'bot1',\n",
    "    last_seen = dt_now()\n",
    "))\n",
    "session.commit()"
   ]
  },
  {
   "cell_type": "code",
   "execution_count": null,
   "metadata": {},
   "outputs": [],
   "source": []
  }
 ],
 "metadata": {
  "kernelspec": {
   "display_name": "Python 3",
   "language": "python",
   "name": "python3"
  },
  "language_info": {
   "codemirror_mode": {
    "name": "ipython",
    "version": 3
   },
   "file_extension": ".py",
   "mimetype": "text/x-python",
   "name": "python",
   "nbconvert_exporter": "python",
   "pygments_lexer": "ipython3",
   "version": "3.6.6"
  }
 },
 "nbformat": 4,
 "nbformat_minor": 2
}
