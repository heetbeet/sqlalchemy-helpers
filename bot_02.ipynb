{
 "cells": [
  {
   "cell_type": "code",
   "execution_count": null,
   "metadata": {},
   "outputs": [],
   "source": [
    "%load_ext autoreload\n",
    "%autoreload 2"
   ]
  },
  {
   "cell_type": "code",
   "execution_count": null,
   "metadata": {},
   "outputs": [],
   "source": [
    "from bot_info import botInfo\n",
    "import numpy as np\n",
    "import sql_misc as sqm\n",
    "import time \n",
    "\n",
    "botinf = botInfo()\n",
    "while(1):\n",
    "    time.sleep(0.2)\n",
    "    if botinf.is_my_turn() and botinf.is_api_ready():\n",
    "        wait_time = np.random.rand()*5\n",
    "        print(wait_time)\n",
    "        \n",
    "        botinf.check_out(sqm.now()+sqm.secs(wait_time))"
   ]
  }
 ],
 "metadata": {
  "kernelspec": {
   "display_name": "Python 3",
   "language": "python",
   "name": "python3"
  },
  "language_info": {
   "codemirror_mode": {
    "name": "ipython",
    "version": 3
   },
   "file_extension": ".py",
   "mimetype": "text/x-python",
   "name": "python",
   "nbconvert_exporter": "python",
   "pygments_lexer": "ipython3",
   "version": "3.6.6"
  }
 },
 "nbformat": 4,
 "nbformat_minor": 2
}
